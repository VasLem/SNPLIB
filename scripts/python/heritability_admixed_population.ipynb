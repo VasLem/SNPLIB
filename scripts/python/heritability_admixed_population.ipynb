{
 "cells": [
  {
   "cell_type": "code",
   "execution_count": 45,
   "metadata": {},
   "outputs": [],
   "source": [
    "import SNPLIB\n",
    "import math\n",
    "import numpy as np\n",
    "import numpy.linalg as npl\n",
    "import matplotlib.pyplot as plt\n",
    "from numpy import random"
   ]
  },
  {
   "cell_type": "code",
   "execution_count": 46,
   "metadata": {},
   "outputs": [],
   "source": [
    "Fst = 0.1\n",
    "num_generations = 200\n",
    "effective_sample_size = math.floor(num_generations/2/(1-math.exp(-Fst)))\n",
    "num_snps = 100000\n",
    "num_causal_snps = 10000\n",
    "num_samples = 4000\n",
    "num_traits = 10000\n",
    "num_pairs = num_traits//2"
   ]
  },
  {
   "cell_type": "code",
   "execution_count": 47,
   "metadata": {},
   "outputs": [],
   "source": [
    "aaf = 0.05+0.9*np.random.rand(num_snps)\n",
    "pop_af = SNPLIB.UpdateAf(aaf,2,num_generations,effective_sample_size)\n",
    "pop = np.zeros((num_samples,2),dtype='double',order='F')\n",
    "pop[:,0] = np.sort(np.random.beta(0.1,0.1,num_samples))\n",
    "pop[:,1] = 1.0-pop[:,0]\n",
    "af = pop@pop_af"
   ]
  },
  {
   "cell_type": "code",
   "execution_count": 49,
   "metadata": {},
   "outputs": [],
   "source": [
    "obj = SNPLIB.SNPLIB()\n",
    "obj.GenerateIndividuals(af)\n",
    "geno_d = obj.UnpackGeno()*random.randn(1,num_snps)"
   ]
  },
  {
   "cell_type": "code",
   "execution_count": null,
   "metadata": {},
   "outputs": [],
   "source": [
    "\"\"\"\n",
    "Same additive effects\n",
    "Same direction\n",
    "\"\"\"\n",
    "true_genetic_corr = np.zeros(num_pairs)\n",
    "true_env_corr = np.zeros(num_pairs)\n",
    "sim_traits = np.zeros((num_samples, num_traits), dtype='double', order='F')\n",
    "for i in range(num_pairs):\n",
    "    all_ind = np.arange(num_snps)\n",
    "    additive_snp = random.choice(all_ind,replace=False)\n",
    "    all_ind = np.setdiff1d(all_ind,additive_snp)\n",
    "    snp_ind1 = random.choice(all_ind,size=(num_causal_snps,1),replace=False).squeeze()\n",
    "    all_ind = np.setdiff1d(all_ind,snp_ind1)\n",
    "    num_shared_snps = random.randint(num_causal_snps)\n",
    "    additive_effect1 = geno_d[:,additive_snp].copy()\n",
    "    additive_effect2 = geno_d[:,additive_snp].copy()\n",
    "    \n",
    "    "
   ]
  },
  {
   "cell_type": "code",
   "execution_count": null,
   "metadata": {},
   "outputs": [],
   "source": [
    "\"\"\"\n",
    "Same additive effects\n",
    "Opposite direction\n",
    "\"\"\"\n",
    "true_genetic_corr = np.zeros(num_pairs)\n",
    "true_env_corr = np.zeros(num_pairs)\n",
    "sim_traits = np.zeros((num_samples, num_traits), dtype='double', order='F')\n",
    "for i in range(num_pairs):\n",
    "    all_ind = np.arange(num_snps)\n",
    "    snp_ind1 = random.choice(all_ind,size=(num_causal_snps,1),replace=False).squeeze()"
   ]
  },
  {
   "cell_type": "code",
   "execution_count": null,
   "metadata": {},
   "outputs": [],
   "source": [
    "\"\"\"\n",
    "Difference additive effects\n",
    "\"\"\"\n",
    "true_genetic_corr = np.zeros(num_pairs)\n",
    "true_env_corr = np.zeros(num_pairs)\n",
    "sim_traits = np.zeros((num_samples, num_traits), dtype='double', order='F')\n",
    "for i in range(num_pairs):\n",
    "    all_ind = np.arange(num_snps)\n",
    "    snp_ind1 = random.choice(all_ind,size=(num_causal_snps,1),replace=False).squeeze()"
   ]
  },
  {
   "cell_type": "code",
   "execution_count": 53,
   "metadata": {},
   "outputs": [],
   "source": [
    "all_ind = np.arange(num_snps)\n",
    "additive_snp = random.choice(all_ind,replace=False)\n",
    "all_ind = np.setdiff1d(all_ind,additive_snp)\n",
    "snp_ind1 = random.choice(all_ind,size=(num_causal_snps,1),replace=False).squeeze()\n",
    "all_ind = np.setdiff1d(all_ind,snp_ind1)\n",
    "num_shared_snps = random.randint(num_causal_snps)\n",
    "snp_ind2 = random.choice(snp_ind1, size=(num_shared_snps,1),replace=False).squeeze()\n",
    "snp_ind2 = np.concatenate((snp_ind2, random.choice(all_ind, size=(num_causal_snps-num_shared_snps,1),replace=False).squeeze()))\n",
    "additive_effect1 = geno_d[:,additive_snp].copy()\n",
    "random_effect1 = np.sum(geno_d[:,snp_ind1], axis=0)\n",
    "additive_effect2 = geno_d[:,additive_snp].copy()"
   ]
  },
  {
   "cell_type": "code",
   "execution_count": 61,
   "metadata": {},
   "outputs": [
    {
     "data": {
      "image/png": "[encoded data removed]",
      "text/plain": [
       "<Figure size 432x288 with 1 Axes>"
      ]
     },
     "metadata": {
      "needs_background": "light"
     },
     "output_type": "display_data"
    }
   ],
   "source": [
    "plt.plot(additive_effect2,'.')\n",
    "plt.show()"
   ]
  },
  {
   "cell_type": "code",
   "execution_count": 36,
   "metadata": {},
   "outputs": [
    {
     "data": {
      "text/plain": [
       "array([52393, 29480, 17113, ..., 76663, 93661, 97594])"
      ]
     },
     "execution_count": 36,
     "metadata": {},
     "output_type": "execute_result"
    }
   ],
   "source": [
    "snp_ind2"
   ]
  },
  {
   "cell_type": "code",
   "execution_count": 31,
   "metadata": {},
   "outputs": [
    {
     "data": {
      "text/plain": [
       "  C_CONTIGUOUS : False\n",
       "  F_CONTIGUOUS : True\n",
       "  OWNDATA : True\n",
       "  WRITEABLE : True\n",
       "  ALIGNED : True\n",
       "  WRITEBACKIFCOPY : False\n",
       "  UPDATEIFCOPY : False"
      ]
     },
     "execution_count": 31,
     "metadata": {},
     "output_type": "execute_result"
    }
   ],
   "source": [
    "geno_d.flags"
   ]
  },
  {
   "cell_type": "code",
   "execution_count": null,
   "metadata": {},
   "outputs": [],
   "source": []
  }
 ],
 "metadata": {
  "kernelspec": {
   "display_name": "Python 3",
   "language": "python",
   "name": "python3"
  },
  "language_info": {
   "codemirror_mode": {
    "name": "ipython",
    "version": 3
   },
   "file_extension": ".py",
   "mimetype": "text/x-python",
   "name": "python",
   "nbconvert_exporter": "python",
   "pygments_lexer": "ipython3",
   "version": "3.7.6"
  }
 },
 "nbformat": 4,
 "nbformat_minor": 4
}
