{
 "cells": [
  {
   "cell_type": "code",
   "execution_count": 40,
   "metadata": {},
   "outputs": [],
   "source": [
    "import SNPLIB\n",
    "import math\n",
    "import numpy as np\n",
    "import numpy.linalg as npl\n",
    "import matplotlib.pyplot as plt\n",
    "%matplotlib notebook"
   ]
  },
  {
   "cell_type": "code",
   "execution_count": 41,
   "metadata": {},
   "outputs": [],
   "source": [
    "Fst = 0.1\n",
    "num_generations = 200\n",
    "effective_sample_size = math.floor(num_generations/2/(1-math.exp(-Fst)))"
   ]
  },
  {
   "cell_type": "code",
   "execution_count": 42,
   "metadata": {},
   "outputs": [],
   "source": [
    "num_snps = 100000\n",
    "num_samples = 4000\n",
    "aaf = np.random.rand(num_snps)\n",
    "af = SNPLIB.UpdateAf(aaf,2,num_generations,effective_sample_size)"
   ]
  },
  {
   "cell_type": "code",
   "execution_count": 43,
   "metadata": {},
   "outputs": [],
   "source": [
    "pop = np.zeros((num_samples,2),dtype='double',order='F')\n",
    "pop[:,0] = np.sort(np.random.beta(0.1,0.1,num_samples))\n",
    "pop[:,1] = 1.0-pop[:,0]"
   ]
  },
  {
   "cell_type": "code",
   "execution_count": 44,
   "metadata": {},
   "outputs": [],
   "source": [
    "af = pop@af\n",
    "obj = SNPLIB.SNPLIB(16)"
   ]
  },
  {
   "cell_type": "code",
   "execution_count": 45,
   "metadata": {},
   "outputs": [],
   "source": [
    "obj.GenerateIndividuals(af)\n",
    "scores = obj.CalcSUGIBSScores(1)"
   ]
  },
  {
   "cell_type": "code",
   "execution_count": null,
   "metadata": {},
   "outputs": [],
   "source": [
    "cov = np.ones((num_samples,2),dtype='double',order='F')\n",
    "cov[:,1] = scores[:,0]\n",
    "adjgrm = obj.CalcAdjustedGRM(cov)\n",
    "plt.imshow(adjgrm[0],cmap='gray',vmin=-0.025,vmax=0.025)"
   ]
  },
  {
   "cell_type": "code",
   "execution_count": 50,
   "metadata": {},
   "outputs": [
    {
     "data": {
      "text/plain": [
       "(4000, 1)"
      ]
     },
     "execution_count": 50,
     "metadata": {},
     "output_type": "execute_result"
    }
   ],
   "source": [
    "scores.shape"
   ]
  },
  {
   "cell_type": "code",
   "execution_count": null,
   "metadata": {},
   "outputs": [],
   "source": []
  }
 ],
 "metadata": {
  "kernelspec": {
   "display_name": "Python 3",
   "language": "python",
   "name": "python3"
  },
  "language_info": {
   "codemirror_mode": {
    "name": "ipython",
    "version": 3
   },
   "file_extension": ".py",
   "mimetype": "text/x-python",
   "name": "python",
   "nbconvert_exporter": "python",
   "pygments_lexer": "ipython3",
   "version": "3.7.7"
  }
 },
 "nbformat": 4,
 "nbformat_minor": 4
}