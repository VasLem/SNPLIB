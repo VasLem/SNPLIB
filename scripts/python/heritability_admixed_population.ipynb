{
 "cells": [
  {
   "cell_type": "code",
   "execution_count": 11,
   "metadata": {},
   "outputs": [],
   "source": [
    "import SNPLIB\n",
    "import math\n",
    "import numpy as np\n",
    "import numpy.linalg as npl\n",
    "import matplotlib.pyplot as plt\n",
    "from numpy import random\n",
    "from scipy import stats"
   ]
  },
  {
   "cell_type": "code",
   "execution_count": 12,
   "metadata": {},
   "outputs": [],
   "source": [
    "Fst = 0.1\n",
    "num_generations = 200\n",
    "effective_sample_size = math.floor(num_generations/2/(1-math.exp(-Fst)))\n",
    "num_snps = 100000\n",
    "num_causal_snps = 10000\n",
    "num_samples = 4000\n",
    "num_traits = 10000\n",
    "num_pairs = num_traits//2"
   ]
  },
  {
   "cell_type": "code",
   "execution_count": 13,
   "metadata": {},
   "outputs": [],
   "source": [
    "aaf = 0.05+0.9*np.random.rand(num_snps)\n",
    "pop_af = SNPLIB.UpdateAf(aaf,2,num_generations,effective_sample_size)\n",
    "pop = np.zeros((num_samples,2),dtype='double',order='F')\n",
    "pop[:,0] = np.sort(np.random.beta(0.1,0.1,num_samples))\n",
    "pop[:,1] = 1.0-pop[:,0]\n",
    "af = pop@pop_af"
   ]
  },
  {
   "cell_type": "code",
   "execution_count": 14,
   "metadata": {},
   "outputs": [],
   "source": [
    "obj = SNPLIB.SNPLIB()\n",
    "obj.GenerateIndividuals(af)\n",
    "geno_d = obj.UnpackGeno()*random.randn(1,num_snps)"
   ]
  },
  {
   "cell_type": "code",
   "execution_count": null,
   "metadata": {},
   "outputs": [],
   "source": [
    "\"\"\"\n",
    "Same additive effects\n",
    "Same direction\n",
    "\"\"\"\n",
    "true_genetic_corr = np.zeros(num_pairs)\n",
    "true_env_corr = np.zeros(num_pairs)\n",
    "sim_traits = np.zeros((num_samples, num_traits), dtype='double', order='F')\n",
    "for i in range(num_pairs):\n",
    "    all_ind = np.arange(num_snps)\n",
    "    additive_snp = random.choice(all_ind,replace=False)\n",
    "    all_ind = np.setdiff1d(all_ind,additive_snp)\n",
    "    snp_ind1 = random.choice(all_ind,size=(num_causal_snps,1),replace=False).squeeze()\n",
    "    all_ind = np.setdiff1d(all_ind,snp_ind1)\n",
    "    num_shared_snps = random.randint(num_causal_snps)\n",
    "    snp_ind2 = random.choice(snp_ind1, size=(num_shared_snps,1),replace=False).squeeze()\n",
    "    snp_ind2 = np.concatenate((snp_ind2, random.choice(all_ind, size=(num_causal_snps-num_shared_snps,1),replace=False).squeeze()))\n",
    "    rho = random.rand(1)*2-1\n",
    "    env_effects = random.multivariate_normal([0.,0.],[[1,rho],[rho,1]],num_samples)\n",
    "    effects_1 = np.zeros((num_samples,3),dtype='double',order='F')\n",
    "    effects_1[:,0] = geno_d[:,additive_snp]\n",
    "    effects_1[:,1] = np.sum(geno_d[:,snp_ind1], axis=1)\n",
    "    effects_1[:,2] = env_effects[:,0]\n",
    "    effects_1 = stats.zscore(effects_1,axis=0,ddof=1)\n",
    "    effects_1,_ = npl.qr(effects_1)\n",
    "    effects_1 *= math.sqrt(num_samples-1)\n",
    "    effects_1[:,0] *= math.sqrt(0.02)\n",
    "    effects_1[:,1] *= 0.7\n",
    "    effects_1[:,2] *= 0.7\n",
    "    sim_traits[:,2*i] = np.sum(effects_1, axis=1);\n",
    "    effects_2 = np.zeros((num_samples,3),dtype='double',order='F')\n",
    "    effects_2[:,0] = geno_d[:,additive_snp]\n",
    "    effects_2[:,1] = np.sum(geno_d[:,snp_ind2], axis=1)\n",
    "    effects_2[:,2] = env_effects[:,1]\n",
    "    effects_2 = stats.zscore(effects_2,axis=0,ddof=1)\n",
    "    effects_2,_ = npl.qr(effects_2)\n",
    "    effects_2 *= math.sqrt(num_samples-1)\n",
    "    effects_2[:,0] *= math.sqrt(0.02)\n",
    "    effects_2[:,1] *= 0.7\n",
    "    effects_2[:,2] *= 0.7\n",
    "    sim_traits[:,2*i+1] = np.sum(effects_2, axis=1);\n",
    "    true_genetic_corr[i],_ = stats.pearsonr(effects_2[:,1],effects_1[:,1])\n",
    "    true_env_corr[i],_ = stats.pearsonr(effects_2[:,2],effects_1[:,2])\n",
    "    "
   ]
  },
  {
   "cell_type": "code",
   "execution_count": null,
   "metadata": {},
   "outputs": [],
   "source": [
    "\"\"\"\n",
    "Same additive effects\n",
    "Opposite direction\n",
    "\"\"\"\n",
    "true_genetic_corr = np.zeros(num_pairs)\n",
    "true_env_corr = np.zeros(num_pairs)\n",
    "sim_traits = np.zeros((num_samples, num_traits), dtype='double', order='F')\n",
    "for i in range(num_pairs):\n",
    "    all_ind = np.arange(num_snps)\n",
    "    additive_snp = random.choice(all_ind,replace=False)\n",
    "    all_ind = np.setdiff1d(all_ind,additive_snp)\n",
    "    snp_ind1 = random.choice(all_ind,size=(num_causal_snps,1),replace=False).squeeze()\n",
    "    all_ind = np.setdiff1d(all_ind,snp_ind1)\n",
    "    num_shared_snps = random.randint(num_causal_snps)\n",
    "    snp_ind2 = random.choice(snp_ind1, size=(num_shared_snps,1),replace=False).squeeze()\n",
    "    snp_ind2 = np.concatenate((snp_ind2, random.choice(all_ind, size=(num_causal_snps-num_shared_snps,1),replace=False).squeeze()))\n",
    "    rho = random.rand(1)*2-1\n",
    "    env_effects = random.multivariate_normal([0.,0.],[[1,rho],[rho,1]],num_samples)\n",
    "    effects_1 = np.zeros((num_samples,3),dtype='double',order='F')\n",
    "    effects_1[:,0] = geno_d[:,additive_snp]\n",
    "    effects_1[:,1] = np.sum(geno_d[:,snp_ind1], axis=1)\n",
    "    effects_1[:,2] = env_effects[:,0]\n",
    "    effects_1 = stats.zscore(effects_1,axis=0,ddof=1)\n",
    "    effects_1,_ = npl.qr(effects_1)\n",
    "    effects_1 *= math.sqrt(num_samples-1)\n",
    "    effects_1[:,0] *= math.sqrt(0.02)\n",
    "    effects_1[:,1] *= 0.7\n",
    "    effects_1[:,2] *= 0.7\n",
    "    sim_traits[:,2*i] = np.sum(effects_1, axis=1);\n",
    "    effects_2 = np.zeros((num_samples,3),dtype='double',order='F')\n",
    "    effects_2[:,0] = -geno_d[:,additive_snp]\n",
    "    effects_2[:,1] = np.sum(geno_d[:,snp_ind2], axis=1)\n",
    "    effects_2[:,2] = env_effects[:,1]\n",
    "    effects_2 = stats.zscore(effects_2,axis=0,ddof=1)\n",
    "    effects_2,_ = npl.qr(effects_2)\n",
    "    effects_2 *= math.sqrt(num_samples-1)\n",
    "    effects_2[:,0] *= math.sqrt(0.02)\n",
    "    effects_2[:,1] *= 0.7\n",
    "    effects_2[:,2] *= 0.7\n",
    "    sim_traits[:,2*i+1] = np.sum(effects_2, axis=1);\n",
    "    true_genetic_corr[i],_ = stats.pearsonr(effects_2[:,1],effects_1[:,1])\n",
    "    true_env_corr[i],_ = stats.pearsonr(effects_2[:,2],effects_1[:,2])"
   ]
  },
  {
   "cell_type": "code",
   "execution_count": null,
   "metadata": {},
   "outputs": [],
   "source": [
    "\"\"\"\n",
    "Difference additive effects\n",
    "\"\"\"\n",
    "true_genetic_corr = np.zeros(num_pairs)\n",
    "true_env_corr = np.zeros(num_pairs)\n",
    "sim_traits = np.zeros((num_samples, num_traits), dtype='double', order='F')\n",
    "for i in range(num_pairs):\n",
    "    all_ind = np.arange(num_snps)\n",
    "    additive_snp = random.choice(all_ind,replace=False)\n",
    "    all_ind = np.setdiff1d(all_ind,additive_snp)\n",
    "    snp_ind1 = random.choice(all_ind,size=(num_causal_snps,1),replace=False).squeeze()\n",
    "    all_ind = np.setdiff1d(all_ind,snp_ind1)\n",
    "    num_shared_snps = random.randint(num_causal_snps)\n",
    "    snp_ind2 = random.choice(snp_ind1, size=(num_shared_snps,1),replace=False).squeeze()\n",
    "    snp_ind2 = np.concatenate((snp_ind2, random.choice(all_ind, size=(num_causal_snps-num_shared_snps,1),replace=False).squeeze()))\n",
    "    rho = random.rand(1)*2-1\n",
    "    env_effects = random.multivariate_normal([0.,0.],[[1,rho],[rho,1]],num_samples)\n",
    "    effects_1 = np.zeros((num_samples,3),dtype='double',order='F')\n",
    "    effects_1[:,0] = geno_d[:,additive_snp]\n",
    "    effects_1[:,1] = np.sum(geno_d[:,snp_ind1], axis=1)\n",
    "    effects_1[:,2] = env_effects[:,0]\n",
    "    effects_1 = stats.zscore(effects_1,axis=0,ddof=1)\n",
    "    effects_1,_ = npl.qr(effects_1)\n",
    "    effects_1 *= math.sqrt(num_samples-1)\n",
    "    effects_1[:,0] *= math.sqrt(0.02)\n",
    "    effects_1[:,1] *= 0.7\n",
    "    effects_1[:,2] *= 0.7\n",
    "    sim_traits[:,2*i] = np.sum(effects_1, axis=1);\n",
    "    effects_2 = np.zeros((num_samples,3),dtype='double',order='F')\n",
    "    effects_2[:,0] = geno_d[:,additive_snp]\n",
    "    effects_2[:,1] = np.sum(geno_d[:,snp_ind2], axis=1)\n",
    "    effects_2[:,2] = env_effects[:,1]\n",
    "    effects_2 = stats.zscore(effects_2,axis=0,ddof=1)\n",
    "    effects_2,_ = npl.qr(effects_2)\n",
    "    effects_2 *= math.sqrt(num_samples-1)\n",
    "    effects_2[:,0] *= math.sqrt(0.02)\n",
    "    effects_2[:,1] *= 0.7\n",
    "    effects_2[:,2] *= 0.7\n",
    "    sim_traits[:,2*i+1] = np.sum(effects_2, axis=1);\n",
    "    true_genetic_corr[i],_ = stats.pearsonr(effects_2[:,1],effects_1[:,1])\n",
    "    true_env_corr[i],_ = stats.pearsonr(effects_2[:,2],effects_1[:,2])"
   ]
  },
  {
   "cell_type": "code",
   "execution_count": 34,
   "metadata": {},
   "outputs": [],
   "source": []
  },
  {
   "cell_type": "markdown",
   "metadata": {},
   "source": [
    "### plt.plot(additive_effect2,'.')\n",
    "plt.show()"
   ]
  },
  {
   "cell_type": "code",
   "execution_count": 4,
   "metadata": {},
   "outputs": [],
   "source": [
    "rho = random.rand(1)*2-1\n",
    "env_effects = random.multivariate_normal([0.,0.],[[1,rho],[rho,1]],num_samples)"
   ]
  },
  {
   "cell_type": "code",
   "execution_count": 52,
   "metadata": {},
   "outputs": [],
   "source": [
    "effects_1 = np.zeros((num_samples,3),dtype='double',order='F')\n",
    "effects_1[:,0] = geno_d[:,additive_snp]\n",
    "effects_1[:,1] = np.sum(geno_d[:,snp_ind1], axis=1)\n",
    "effects_1[:,2] = env_effects[:,0]\n",
    "effects_1 = stats.zscore(effects_1,axis=0,ddof=1)\n",
    "effects_1,_ = npl.qr(effects_1)\n",
    "effects_1 *= math.sqrt(num_samples-1)\n",
    "effects_1[:,0] *= math.sqrt(0.02)\n",
    "effects_1[:,1] *= 0.7\n",
    "effects_1[:,2] *= 0.7"
   ]
  },
  {
   "cell_type": "code",
   "execution_count": 53,
   "metadata": {},
   "outputs": [],
   "source": [
    "a = np.sum(effects_1,axis=1)"
   ]
  },
  {
   "cell_type": "code",
   "execution_count": 55,
   "metadata": {},
   "outputs": [
    {
     "data": {
      "text/plain": [
       "0.9999999999999999"
      ]
     },
     "execution_count": 55,
     "metadata": {},
     "output_type": "execute_result"
    }
   ],
   "source": [
    "np.std(a,ddof=1)"
   ]
  },
  {
   "cell_type": "code",
   "execution_count": 38,
   "metadata": {},
   "outputs": [
    {
     "data": {
      "text/plain": [
       "1794"
      ]
     },
     "execution_count": 38,
     "metadata": {},
     "output_type": "execute_result"
    }
   ],
   "source": [
    "num_shared_snps"
   ]
  },
  {
   "cell_type": "code",
   "execution_count": null,
   "metadata": {},
   "outputs": [],
   "source": []
  }
 ],
 "metadata": {
  "kernelspec": {
   "display_name": "Python 3",
   "language": "python",
   "name": "python3"
  },
  "language_info": {
   "codemirror_mode": {
    "name": "ipython",
    "version": 3
   },
   "file_extension": ".py",
   "mimetype": "text/x-python",
   "name": "python",
   "nbconvert_exporter": "python",
   "pygments_lexer": "ipython3",
   "version": "3.7.6"
  }
 },
 "nbformat": 4,
 "nbformat_minor": 4
}
