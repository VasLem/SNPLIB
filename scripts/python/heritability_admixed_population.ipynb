{
 "cells": [
  {
   "cell_type": "code",
   "execution_count": 1,
   "metadata": {},
   "outputs": [],
   "source": [
    "import SNPLIB\n",
    "import math\n",
    "import numpy as np\n",
    "import numpy.linalg as npl\n",
    "import matplotlib.pyplot as plt"
   ]
  },
  {
   "cell_type": "code",
   "execution_count": 2,
   "metadata": {},
   "outputs": [],
   "source": [
    "Fst = 0.1\n",
    "num_generations = 200\n",
    "effective_sample_size = math.floor(num_generations/2/(1-math.exp(-Fst)))\n",
    "num_snps = 100000\n",
    "num_samples = 4000\n",
    "num_traits = 10000\n",
    "num_pairs = num_traits//2"
   ]
  },
  {
   "cell_type": "code",
   "execution_count": 3,
   "metadata": {},
   "outputs": [],
   "source": [
    "aaf = np.random.rand(num_snps)\n",
    "pop_af = SNPLIB.UpdateAf(aaf,2,num_generations,effective_sample_size)\n",
    "pop = np.zeros((num_samples,2),dtype='double',order='F')\n",
    "pop[:,0] = np.sort(np.random.beta(0.1,0.1,num_samples))\n",
    "pop[:,1] = 1.0-pop[:,0]\n",
    "af = pop@pop_af"
   ]
  },
  {
   "cell_type": "code",
   "execution_count": 5,
   "metadata": {},
   "outputs": [],
   "source": [
    "obj = SNPLIB.SNPLIB()\n",
    "obj.GenerateIndividuals(af)\n",
    "scores = obj.CalcSUGIBSScores(1)\n",
    "cov = np.ones((num_samples,2),dtype='double',order='F')\n",
    "cov[:,1] = scores[:,0]\n",
    "adjgrm_1,_ = obj.CalcAdjustedGRM(cov)\n",
    "adjgrm_2,_ = obj.CalcAdmixedGRM(pop_af, pop)\n",
    "geno_d = obj.UnpackGeno()"
   ]
  },
  {
   "cell_type": "code",
   "execution_count": null,
   "metadata": {},
   "outputs": [],
   "source": [
    "true_genetic_corr = np.zeros(num_pairs)\n",
    "true_env_corr = np.zeros(num_pairs)\n",
    "sim_traits = np.zeros((num_samples, num_traits), dtype='double', order='F')\n",
    "for i in range(num_pairs):\n",
    "    "
   ]
  }
 ],
 "metadata": {
  "kernelspec": {
   "display_name": "Python 3",
   "language": "python",
   "name": "python3"
  },
  "language_info": {
   "codemirror_mode": {
    "name": "ipython",
    "version": 3
   },
   "file_extension": ".py",
   "mimetype": "text/x-python",
   "name": "python",
   "nbconvert_exporter": "python",
   "pygments_lexer": "ipython3",
   "version": "3.7.3"
  }
 },
 "nbformat": 4,
 "nbformat_minor": 4
}
